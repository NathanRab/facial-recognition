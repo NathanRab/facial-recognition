{
 "cells": [
  {
   "cell_type": "code",
   "execution_count": null,
   "id": "342241d3",
   "metadata": {},
   "outputs": [],
   "source": [
    "def cos_dist(di,dj):\n",
    "    \"\"\"Takes in the descriptor vectors di and dj and returns the cosine distance between them\"\"\"\n",
    "    numerator = np.dot(di, dj)\n",
    "    denominator = (sum(i**2 for i in di)**.5) * (sum(j**2 for j in dj)**.5)\n",
    "    dist = 1-(numerator/denominator)\n",
    "    return dist"
   ]
  }
 ],
 "metadata": {
  "kernelspec": {
   "display_name": "Python 3",
   "language": "python",
   "name": "python3"
  },
  "language_info": {
   "codemirror_mode": {
    "name": "ipython",
    "version": 3
   },
   "file_extension": ".py",
   "mimetype": "text/x-python",
   "name": "python",
   "nbconvert_exporter": "python",
   "pygments_lexer": "ipython3",
   "version": "3.8.8"
  }
 },
 "nbformat": 4,
 "nbformat_minor": 5
}
