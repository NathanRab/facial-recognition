{
 "cells": [
  {
   "cell_type": "code",
   "execution_count": null,
   "id": "342241d3",
   "metadata": {},
   "outputs": [],
   "source": [
    "def cos_dist(di,dj):\n",
    "    \"\"\"Takes in the descriptor vectors di and dj and returns the cosine distance between them\"\"\"\n",
    "    numerator = np.dot(di, dj)\n",
    "    denominator = (sum(i**2 for i in di)**.5) * (sum(j**2 for j in dj)**.5)\n",
    "    dist = 1-(numerator/denominator)\n",
    "    return dist"
   ]
  },
  {
   "cell_type": "code",
   "execution_count": null,
   "id": "0a61b29b",
   "metadata": {},
   "outputs": [],
   "source": []
  }
 ],
 "metadata": {
  "kernelspec": {
   "display_name": "Python 3 (ipykernel)",
   "language": "python",
   "name": "python3"
  },
  "language_info": {
   "codemirror_mode": {
    "name": "ipython",
    "version": 3
   },
   "file_extension": ".py",
   "mimetype": "text/x-python",
   "name": "python",
   "nbconvert_exporter": "python",
   "pygments_lexer": "ipython3",
   "version": "3.8.12"
  }
 },
 "nbformat": 4,
 "nbformat_minor": 5
}
