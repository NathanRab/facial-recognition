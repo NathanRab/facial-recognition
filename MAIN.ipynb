{
 "cells": [
  {
   "cell_type": "code",
   "execution_count": 1,
   "id": "ac451d0a",
   "metadata": {},
   "outputs": [],
   "source": [
    "# run this cell to setup matplotlib, and also import the very important take_picture function from camera!\n",
    "%matplotlib notebook\n",
    "import matplotlib.pyplot as plt\n",
    "from camera import take_picture\n",
    "import numpy as np\n",
    "from PIL import Image\n",
    "from facenet_models import FacenetModel\n",
    "\n",
    "model = FacenetModel()"
   ]
  },
  {
   "cell_type": "code",
   "execution_count": 4,
   "id": "dae58f4c",
   "metadata": {},
   "outputs": [
    {
     "name": "stdout",
     "output_type": "stream",
     "text": [
      "No camera config found, using defaults\n",
      "\t port=0, exposure=0.7\n"
     ]
    }
   ],
   "source": [
    "pic = take_picture()"
   ]
  },
  {
   "cell_type": "code",
   "execution_count": 5,
   "id": "e47cc45c",
   "metadata": {},
   "outputs": [
    {
     "name": "stdout",
     "output_type": "stream",
     "text": [
      "Number of faces detected: 1\n"
     ]
    }
   ],
   "source": [
    "boxes, probabilities, landmarks = model.detect(pic)\n",
    "# only used if not taking descriptor2 from database\n",
    "#pic2 = take_picture()\n",
    "#boxes2, probabilities2, landmarks2 = model.detect(pic2)\n",
    "\n",
    "print(f\"Number of faces detected: {len(boxes)}\")\n",
    "#print(f\"Number of faces detected: {len(boxes2)}\")"
   ]
  },
  {
   "cell_type": "code",
   "execution_count": 6,
   "id": "6f2c2a10",
   "metadata": {},
   "outputs": [
    {
     "name": "stdout",
     "output_type": "stream",
     "text": [
      "(1, 512)\n"
     ]
    },
    {
     "name": "stderr",
     "output_type": "stream",
     "text": [
      "c:\\users\\nrabi\\documents\\vision_project\\facenet_models\\src\\facenet_models\\__init__.py:78: UserWarning: Creating a tensor from a list of numpy.ndarrays is extremely slow. Please consider converting the list to a single numpy.ndarray with numpy.array() before converting to a tensor. (Triggered internally at  ..\\torch\\csrc\\utils\\tensor_new.cpp:201.)\n",
      "  crops = (torch.tensor(crops).float() - 127.5) / 128\n"
     ]
    }
   ],
   "source": [
    "# let's take a look as to what the descriptor is!!\n",
    "descriptor = model.compute_descriptors(pic, boxes)\n",
    "print(descriptor.shape)\n",
    "#descriptor2 = model.compute_descriptors(pic2, boxes2)\n",
    "#print(descriptor2.shape)"
   ]
  },
  {
   "cell_type": "code",
   "execution_count": 7,
   "id": "4e4c88df",
   "metadata": {},
   "outputs": [],
   "source": [
    "def cos_dist(di, dj):\n",
    "    dot_prod = np.vdot(di, dj)\n",
    "    denom = sum(i**2 for i in di.T)**0.5 * sum(j**2 for j in dj.T)**0.5\n",
    "    cosine_dist = 1 - dot_prod/denom\n",
    "    return float(cosine_dist)"
   ]
  },
  {
   "cell_type": "code",
   "execution_count": 8,
   "id": "93e74f10",
   "metadata": {},
   "outputs": [],
   "source": [
    "def identify(test, names, means, cutoff=1):\n",
    "    \"\"\"Takes in the test descriptor, database, and an optional cuttoff value, defaulted to 1\n",
    "    Outputs a 1D array with the values [min_distance,place_found]. place_found = None if there is no values\n",
    "    that give a cos-dist of less than the cutoff\"\"\"\n",
    "    min_cos_dist = 2\n",
    "    min_name = \"\"\n",
    "    for i in range(0, len(names)):\n",
    "        if cos_dist(test,means[i]) < min_cos_dist:\n",
    "            min_name = names[i]\n",
    "            min_cos_dist = cos_dist(test,means[i])\n",
    "    print(min_cos_dist, \"Min Cosine Distance\")\n",
    "    return min_name"
   ]
  },
  {
   "cell_type": "markdown",
   "id": "e1adcc5d",
   "metadata": {},
   "source": [
    "# Database Code:"
   ]
  },
  {
   "cell_type": "code",
   "execution_count": 11,
   "id": "5ace61d0",
   "metadata": {},
   "outputs": [],
   "source": [
    "\"\"\"\n",
    "Provide utilities for managing the face-recognition database. Lower-cased full names ('first last')\n",
    "are used as keys into the dictionary-database of profiles. Each profile-instances stores all of\n",
    "the face-descriptors added for that person as well as the mean face-descriptor.\n",
    "The database is saved in this directory as 'face_db.pkl'\n",
    "\"\"\"\n",
    "\n",
    "\n",
    "import os as _os\n",
    "import pickle as _pickle\n",
    "from pathlib import Path as _Path\n",
    "from typing import Dict, Iterable, List, Optional, Tuple, TypeVar, Union\n",
    "\n",
    "import numpy as np\n",
    "import numpy as _np\n",
    "import skimage.io as _io\n",
    "from facenet_models import FacenetModel\n",
    "\n",
    "_T = TypeVar(\"_T\")\n",
    "\n",
    "__all__ = [\n",
    "    \"add_images\",\n",
    "    \"add_descriptors\",\n",
    "    \"delete_profile\",\n",
    "    \"descriptors_to_best_matches\",\n",
    "    \"get_profile\",\n",
    "    \"image_to_best_matches\",\n",
    "    \"load_face_db\",\n",
    "    \"save\",\n",
    "    \"switch_db\",\n",
    "]\n",
    "\n",
    "_default_path = _Path(_os.path.dirname(_os.path.abspath(r\"C:\\Users\\nrabi\\Documents\\Vision_Project\\Facial_Recog\\facial-recognition\"))) / \"face_db.pkl\"\n",
    "_path = _default_path # MODIFY FILE PATH ABOVE FOR YOUR COMPUTER\n",
    "\n",
    "\n",
    "class _Profile:\n",
    "    \"\"\" Saves profile information in the face-recognition database.\"\"\"\n",
    "\n",
    "    def __init__(self, name: str):\n",
    "        \"\"\"\n",
    "        Parameters\n",
    "        ----------\n",
    "        name : str\n",
    "            '<first-name> <last-name>' used to identify the database profile.\n",
    "        \"\"\"\n",
    "        self.name = name\n",
    "        try:\n",
    "            self.first, self.last = name.split()\n",
    "        except TypeError:\n",
    "            raise TypeError(\n",
    "                \"A face-database profile name must have a first and last name: 'John Smith' \"\n",
    "            )\n",
    "        self._descriptors: Optional[np.ndarray] = None\n",
    "        self._mean: Optional[np.ndarray] = None\n",
    "\n",
    "    def add_descriptors(self, descriptors: np.ndarray):\n",
    "        \"\"\"Add descriptors to profile.\n",
    "        Parameters\n",
    "        ----------\n",
    "        descriptors : numpy.ndarray\n",
    "            One, shape=(D,), or more, shape=(N, D), descriptor arrays.\n",
    "        \"\"\"\n",
    "        if self._descriptors is None:\n",
    "            if descriptors.ndim == 1:\n",
    "                descriptors = descriptors[_np.newaxis, :]\n",
    "            self._descriptors = descriptors\n",
    "        else:\n",
    "            self._descriptors = _np.vstack([self._descriptors, descriptors])\n",
    "        self._mean = self._descriptors.mean(axis=0)\n",
    "\n",
    "    @property\n",
    "    def num_entries(self) -> int:\n",
    "        \"\"\"Returns the number of descriptors stored for this profile.\n",
    "        Returns\n",
    "        -------\n",
    "        int\n",
    "        \"\"\"\n",
    "        return 0 if self._descriptors is None else len(self._descriptors)\n",
    "\n",
    "    @property\n",
    "    def mean(self) -> np.ndarray:\n",
    "        \"\"\"The average descriptor for this profile.\n",
    "        Returns\n",
    "        -------\n",
    "        numpy.ndarray, shape=(D,)\n",
    "        \"\"\"\n",
    "        return self._mean\n",
    "\n",
    "\n",
    "_face_db: Optional[Dict[str, _Profile]] = None\n",
    "\n",
    "\n",
    "def _load(force: bool = False):\n",
    "    \"\"\"Load the database from face_rec/face_db/face_db.pkl if it isn't\n",
    "    already loaded.\n",
    "    Call this if you want to load the database up front. Otherwise,\n",
    "    the other database methods will automatically load it.\n",
    "    \"\"\"\n",
    "    global _face_db\n",
    "    if _face_db is not None and not force:\n",
    "        return None\n",
    "\n",
    "    if not _path.is_file():\n",
    "        print(\n",
    "            f\"No face-database found. Creating empty database...\\n\\tSaving it will save to {_path.absolute()}\"\n",
    "        )\n",
    "        _face_db = dict()\n",
    "    else:\n",
    "        with _path.open(mode=\"rb\") as f:\n",
    "            _face_db = _pickle.load(f)\n",
    "        print(f\"face-database loaded from: {_path.absolute()}\")\n",
    "\n",
    "\n",
    "def load_face_db(func: Optional[_T] = None) -> _T:\n",
    "    \"\"\"This function can be invoked directly to lazy-load the face-recognition database, or it can\n",
    "    be used as a decorator: the database is lazy-loaded prior to invoking the decorated function.\n",
    "    See face_rec.face_db._load for more information.\n",
    "    Parameters\n",
    "    ----------\n",
    "    func : Optional[Callable]\n",
    "    Returns\n",
    "    -------\n",
    "    Union[None, Callable]\n",
    "    \"\"\"\n",
    "    if func is None:\n",
    "        _load()\n",
    "        return None\n",
    "\n",
    "    from functools import wraps\n",
    "\n",
    "    @wraps(func)\n",
    "    def wrapper(*args, **kwargs):\n",
    "        _load()\n",
    "        return func(*args, **kwargs)\n",
    "\n",
    "    return wrapper\n",
    "\n",
    "\n",
    "def save():\n",
    "    \"\"\" Save the database.\"\"\"\n",
    "    if _face_db is None:\n",
    "        print(\"No changes to face-database to save\")\n",
    "        return None\n",
    "\n",
    "    with _path.open(mode=\"wb\") as f:\n",
    "        _pickle.dump(_face_db, f)\n",
    "\n",
    "    print(f\"Face database saved to: {_path.absolute()}\")\n",
    "\n",
    "\n",
    "def switch_db(path: Optional[Union[str, _Path]] = None):\n",
    "    \"\"\"Switch the face database being used by specifying its load/save path. Calling this\n",
    "    function with no argument will revert to the default database.\n",
    "    Providing a name with no directories will assume face_rec/face_db as the directory,\n",
    "    otherwise the provided path is used. All databases will be saved as .pkl files.\n",
    "    Parameters\n",
    "    ----------\n",
    "    path : PathLike\n",
    "    \"\"\"\n",
    "    from pathlib import Path\n",
    "\n",
    "    global _face_db\n",
    "    _backup_db = _face_db\n",
    "\n",
    "    global _path\n",
    "    _backup_path = _path\n",
    "\n",
    "    try:\n",
    "        if path is not None:\n",
    "            path = Path(path)\n",
    "            parent = path.parent if str(path.parent) != \".\" else _default_path.parent\n",
    "            _path = parent / (path.stem + \".pkl\")\n",
    "        else:\n",
    "            _path = _default_path\n",
    "        _face_db = None\n",
    "        load_face_db()\n",
    "    except Exception as e:\n",
    "        print(f\"The following error occurred: {e}\")\n",
    "        print(f\"\\nReverting to your prior database state at: {_path.absolute()}\")\n",
    "        _face_db = _backup_db\n",
    "        _path = _backup_path\n",
    "\n",
    "\n",
    "@load_face_db\n",
    "def add_images(\n",
    "    name: str,\n",
    "    items: Union[str, _Path, np.ndarray, Iterable[Union[str, _Path, np.ndarray]]],\n",
    "):\n",
    "    \"\"\"Extract face-descriptors from the provided images, and add them to the\n",
    "    face-recognition database.\n",
    "    A new profile will be created if `name.lower()` is not in the database.\n",
    "    Parameters\n",
    "    ----------\n",
    "    name : str\n",
    "        '<first-name> <last-name>' used to identify the database profile.\n",
    "    items : Union[PathLike, numpy.ndarray, Sequence[Union[PathLike, numpy.ndarray]]]\n",
    "        One or more paths to images, or RGB-valued numpy arrays, from which the descriptors\n",
    "        are extracted. Each image must contain exactly one face.\n",
    "    \"\"\"\n",
    "\n",
    "    try:\n",
    "        _, _ = name.split()\n",
    "    except TypeError:\n",
    "        raise TypeError(\n",
    "            \"A face-database profile name must have a first and last name: 'John Smith' \"\n",
    "        )\n",
    "\n",
    "    if isinstance(items, (str, _Path)) or (\n",
    "        isinstance(items, _np.ndarray) and items.ndim == 3\n",
    "    ):\n",
    "        items = [items]\n",
    "\n",
    "    def to_3_channel(x):\n",
    "        return x[..., :-1] if x.shape[-1] == 4 else x  # png -> RGB\n",
    "\n",
    "    arrays = (\n",
    "        to_3_channel(_io.imread(x)) if isinstance(x, (str, _Path)) else x for x in items\n",
    "    )\n",
    "\n",
    "    descriptors = []\n",
    "    model = FacenetModel()\n",
    "\n",
    "    for n, array in enumerate(arrays):\n",
    "        boxes, _, _ = model.detect(array)\n",
    "\n",
    "        # each picture should contain one face\n",
    "        if len(boxes) != 1:\n",
    "            print(f\"Warning: item {n} contains a picture with {len(boxes)} faces\")\n",
    "            print(\"This item was skipped.. each item should contain exactly 1 face\")\n",
    "            continue\n",
    "\n",
    "        descriptors.append(model.compute_descriptors(array, boxes))\n",
    "\n",
    "    if descriptors:\n",
    "        name = name.lower()\n",
    "        profile = _face_db.setdefault(name, _Profile(name))\n",
    "        profile.add_descriptors(_np.vstack(descriptors))\n",
    "        print(\n",
    "            f\"{name} had {len(descriptors)} descriptors added to his/her profile; {profile.num_entries} in total\"\n",
    "        )\n",
    "\n",
    "\n",
    "@load_face_db\n",
    "def add_descriptors(names: Iterable[str], descriptors: Iterable[np.ndarray]):\n",
    "    \"\"\"Add descriptors for multiple database profiles.\n",
    "    Parameters\n",
    "    ----------\n",
    "    names : Iterable[str]\n",
    "        N names.\n",
    "    descriptors : Sequence[numpy.ndarray]\n",
    "        A sequence of N descriptors/descriptor-blocks. That is,\n",
    "        each element of the sequence can be a (512,) array or\n",
    "        a (M, 512) array, corresponding to M descriptors for that\n",
    "        profile.\n",
    "    \"\"\"\n",
    "    for name, descriptor in zip(names, descriptors):\n",
    "        if name is None:\n",
    "            continue\n",
    "        name = name.lower()\n",
    "        profile = _face_db.setdefault(name, _Profile(name))\n",
    "        profile.add_descriptors(descriptor)\n",
    "\n",
    "\n",
    "@load_face_db\n",
    "def list_entries() -> List[str]:\n",
    "    \"\"\"Returns a list of alphabetized profile-names in the database.\n",
    "    Returns\n",
    "    -------\n",
    "    List[str]\n",
    "    \"\"\"\n",
    "    return sorted(_face_db.keys())\n",
    "\n",
    "\n",
    "@load_face_db\n",
    "def get_profile(key: str):\n",
    "    \"\"\"Returns the profile-instance for the specified profile-name from the database.\n",
    "    Parameters\n",
    "    ----------\n",
    "    key : str\n",
    "        '<first-name> <last-name>' used to identify the database entry.\n",
    "    Returns\n",
    "    -------\n",
    "    face_rec.face_db._Profile\n",
    "    \"\"\"\n",
    "    return _face_db[key.lower()]\n",
    "\n",
    "\n",
    "@load_face_db\n",
    "def delete_profile(key: str):\n",
    "    \"\"\"Removes the specified profile from the database.\n",
    "    Parameters\n",
    "    ----------\n",
    "    key : str\n",
    "        '<first-name> <last-name>' used to identify the database entry.\n",
    "    \"\"\"\n",
    "    _face_db.pop(key)\n"
   ]
  },
  {
   "cell_type": "code",
   "execution_count": 15,
   "id": "cbe8eef8",
   "metadata": {},
   "outputs": [],
   "source": [
    "list_entries()\n",
    "keys, means = zip(*((name, profile.mean) for name, profile in _face_db.items()))"
   ]
  },
  {
   "cell_type": "code",
   "execution_count": 16,
   "id": "6258349d",
   "metadata": {
    "scrolled": true
   },
   "outputs": [
    {
     "name": "stdout",
     "output_type": "stream",
     "text": [
      "Face database saved to: C:\\Users\\nrabi\\Documents\\Vision_Project\\Facial_Recog\\face_db.pkl\n"
     ]
    }
   ],
   "source": [
    "save()"
   ]
  },
  {
   "cell_type": "code",
   "execution_count": 17,
   "id": "1fe9281d",
   "metadata": {
    "scrolled": true
   },
   "outputs": [
    {
     "name": "stdout",
     "output_type": "stream",
     "text": [
      "Face database saved to: C:\\Users\\nrabi\\Documents\\Vision_Project\\Facial_Recog\\face_db.pkl\n"
     ]
    }
   ],
   "source": [
    "# For adding a new person (with a descriptor) to the database:\n",
    "#add_descriptors([\"Loren Sinclair\"], [descriptor])\n",
    "save()"
   ]
  },
  {
   "cell_type": "code",
   "execution_count": 18,
   "id": "470a2711",
   "metadata": {},
   "outputs": [
    {
     "data": {
      "text/plain": [
       "['nathan rabinovitch', 'sam vaudo']"
      ]
     },
     "execution_count": 18,
     "metadata": {},
     "output_type": "execute_result"
    }
   ],
   "source": [
    "list_entries()"
   ]
  },
  {
   "cell_type": "code",
   "execution_count": 19,
   "id": "c619328b",
   "metadata": {},
   "outputs": [],
   "source": [
    "# Code for adding a new descriptor for a person who is already in the database:\n",
    "#new_img = take_picture()\n",
    "#add_images(\"nathan rabinovitch\", new_img)"
   ]
  },
  {
   "cell_type": "code",
   "execution_count": 23,
   "id": "df948a74",
   "metadata": {},
   "outputs": [],
   "source": [
    "def new_descriptor():\n",
    "    pic = take_picture()\n",
    "    boxes, probabilities, landmarks = model.detect(pic)\n",
    "    descriptor = model.compute_descriptors(pic, boxes)\n",
    "    return descriptor"
   ]
  },
  {
   "cell_type": "code",
   "execution_count": 24,
   "id": "e05a26f8",
   "metadata": {},
   "outputs": [
    {
     "name": "stdout",
     "output_type": "stream",
     "text": [
      "No camera config found, using defaults\n",
      "\t port=0, exposure=0.7\n"
     ]
    }
   ],
   "source": [
    "person = new_descriptor()"
   ]
  },
  {
   "cell_type": "code",
   "execution_count": 28,
   "id": "3e277995",
   "metadata": {},
   "outputs": [
    {
     "name": "stdout",
     "output_type": "stream",
     "text": [
      "0.1449366807937622 Min Cosine Distance\n",
      "Closest Match: nathan rabinovitch\n"
     ]
    }
   ],
   "source": [
    "name = identify(person, keys, means)\n",
    "print(\"Closest Match:\", name)"
   ]
  },
  {
   "cell_type": "code",
   "execution_count": null,
   "id": "dc3b7817",
   "metadata": {},
   "outputs": [],
   "source": []
  },
  {
   "cell_type": "code",
   "execution_count": null,
   "id": "c0c19927",
   "metadata": {},
   "outputs": [],
   "source": []
  }
 ],
 "metadata": {
  "kernelspec": {
   "display_name": "Python 3 (ipykernel)",
   "language": "python",
   "name": "python3"
  },
  "language_info": {
   "codemirror_mode": {
    "name": "ipython",
    "version": 3
   },
   "file_extension": ".py",
   "mimetype": "text/x-python",
   "name": "python",
   "nbconvert_exporter": "python",
   "pygments_lexer": "ipython3",
   "version": "3.8.12"
  }
 },
 "nbformat": 4,
 "nbformat_minor": 5
}
