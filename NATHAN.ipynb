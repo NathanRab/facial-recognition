{
 "cells": [
  {
   "cell_type": "markdown",
   "id": "0a865efc",
   "metadata": {},
   "source": [
    "# Task 7"
   ]
  },
  {
   "cell_type": "code",
   "execution_count": 25,
   "id": "61034025",
   "metadata": {},
   "outputs": [],
   "source": [
    "# run this cell to setup matplotlib, and also import the very important take_picture function from camera!\n",
    "%matplotlib notebook\n",
    "import matplotlib.pyplot as plt\n",
    "from camera import take_picture\n",
    "import numpy as np"
   ]
  },
  {
   "cell_type": "code",
   "execution_count": 27,
   "id": "a9f2bb91",
   "metadata": {
    "scrolled": true
   },
   "outputs": [
    {
     "name": "stdout",
     "output_type": "stream",
     "text": [
      "No camera config found, using defaults\n",
      "\t port=0, exposure=0.7\n"
     ]
    }
   ],
   "source": [
    "pic = take_picture()"
   ]
  },
  {
   "cell_type": "code",
   "execution_count": 28,
   "id": "93d5c6f1",
   "metadata": {},
   "outputs": [],
   "source": [
    "from facenet_models import FacenetModel\n",
    "\n",
    "model = FacenetModel()"
   ]
  },
  {
   "cell_type": "code",
   "execution_count": 30,
   "id": "19928634",
   "metadata": {},
   "outputs": [
    {
     "name": "stdout",
     "output_type": "stream",
     "text": [
      "No camera config found, using defaults\n",
      "\t port=0, exposure=0.7\n",
      "Number of faces detected: 1\n",
      "Number of faces detected: 1\n"
     ]
    }
   ],
   "source": [
    "from PIL import Image\n",
    "boxes, probabilities, landmarks = model.detect(pic)\n",
    "pic2 = take_picture()\n",
    "boxes2, probabilities2, landmarks2 = model.detect(pic2)\n",
    "\n",
    "print(f\"Number of faces detected: {len(boxes)}\")\n",
    "print(f\"Number of faces detected: {len(boxes2)}\")"
   ]
  },
  {
   "cell_type": "code",
   "execution_count": 31,
   "id": "fc84dae5",
   "metadata": {},
   "outputs": [
    {
     "name": "stdout",
     "output_type": "stream",
     "text": [
      "(1, 512)\n",
      "(1, 512)\n"
     ]
    }
   ],
   "source": [
    "# let's take a look as to what the descriptor is!!\n",
    "descriptor = model.compute_descriptors(pic, boxes)\n",
    "print(descriptor.shape)\n",
    "descriptor2 = model.compute_descriptors(pic2, boxes2)\n",
    "print(descriptor2.shape)"
   ]
  },
  {
   "cell_type": "code",
   "execution_count": 32,
   "id": "b2cec893",
   "metadata": {},
   "outputs": [
    {
     "name": "stdout",
     "output_type": "stream",
     "text": [
      "0.03608745336532593\n"
     ]
    }
   ],
   "source": [
    "dot_prod = np.vdot(descriptor, descriptor2)\n",
    "denom = sum(i**2 for i in descriptor.T)**0.5 * sum(j**2 for j in descriptor2.T)**0.5\n",
    "cosine_dist = 1 - dot_prod/denom\n",
    "print(float(cosine_dist))"
   ]
  },
  {
   "cell_type": "code",
   "execution_count": null,
   "id": "85612438",
   "metadata": {},
   "outputs": [],
   "source": []
  }
 ],
 "metadata": {
  "kernelspec": {
   "display_name": "Python 3 (ipykernel)",
   "language": "python",
   "name": "python3"
  },
  "language_info": {
   "codemirror_mode": {
    "name": "ipython",
    "version": 3
   },
   "file_extension": ".py",
   "mimetype": "text/x-python",
   "name": "python",
   "nbconvert_exporter": "python",
   "pygments_lexer": "ipython3",
   "version": "3.8.12"
  }
 },
 "nbformat": 4,
 "nbformat_minor": 5
}
