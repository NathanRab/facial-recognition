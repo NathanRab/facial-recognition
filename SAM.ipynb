{
 "cells": [
  {
   "cell_type": "code",
   "execution_count": 2,
   "id": "5f765f62",
   "metadata": {},
   "outputs": [],
   "source": [
    "%matplotlib notebook\n",
    "import matplotlib.pyplot as plt\n",
    "from camera import take_picture\n",
    "import numpy as np\n",
    "from PIL import Image"
   ]
  },
  {
   "cell_type": "code",
   "execution_count": 3,
   "id": "f1d2ab52",
   "metadata": {},
   "outputs": [],
   "source": [
    "#LOREN'S CODE\n",
    "def cos_dist(di,dj):\n",
    "    \"\"\"Takes in the descriptor vectors di and dj and returns the cosine distance between them\"\"\"\n",
    "    numerator = np.dot(di, dj)\n",
    "    denominator = (sum(i**2 for i in di)**.5) * (sum(j**2 for j in dj)**.5)\n",
    "    dist = 1-(numerator/denominator)\n",
    "    return dist"
   ]
  },
  {
   "cell_type": "code",
   "execution_count": 4,
   "id": "8b9c76d7",
   "metadata": {},
   "outputs": [],
   "source": [
    "def identify(test,database,cutoff=1):\n",
    "    \"\"\"Takes in the test descriptor, database, and an optional cuttoff value, defaulted to 1\n",
    "    Outputs a 1D array with the values [min_distance,place_found]. place_found = None if there is no values\n",
    "    that give a cos-dist of less than the cutoff\"\"\"\n",
    "    cosine_dist_min = [cutoff,None] #cutoff\n",
    "    count = 0\n",
    "    for item in database:\n",
    "        cos_distance = cos_dist(test,item)\n",
    "        if cos_distance < cosine_dist_min[0]:\n",
    "            cosine_dist_min[0] = cos_distance\n",
    "            cosine_dist_min[1] = count\n",
    "        count += 1\n",
    "        return cosine_dist_min"
   ]
  },
  {
   "cell_type": "code",
   "execution_count": 5,
   "id": "37c9b671",
   "metadata": {},
   "outputs": [],
   "source": [
    "#test_data = [0,0]\n",
    "#database_1 = [[10,10],[20,10],[30,10]]\n",
    "#identify(test_data, database_1,2)"
   ]
  },
  {
   "cell_type": "code",
   "execution_count": 7,
   "id": "79884569",
   "metadata": {},
   "outputs": [],
   "source": [
    "def add_file_to_db(name,file_path):\n",
    "    img= Image.open(file_path)\n",
    "    np_img = numpy.array(img)\n",
    "    add_images(name, np_img)"
   ]
  },
  {
   "cell_type": "code",
   "execution_count": null,
   "id": "1d6b329f",
   "metadata": {},
   "outputs": [],
   "source": []
  }
 ],
 "metadata": {
  "kernelspec": {
   "display_name": "Python 3 (ipykernel)",
   "language": "python",
   "name": "python3"
  },
  "language_info": {
   "codemirror_mode": {
    "name": "ipython",
    "version": 3
   },
   "file_extension": ".py",
   "mimetype": "text/x-python",
   "name": "python",
   "nbconvert_exporter": "python",
   "pygments_lexer": "ipython3",
   "version": "3.8.12"
  }
 },
 "nbformat": 4,
 "nbformat_minor": 5
}
