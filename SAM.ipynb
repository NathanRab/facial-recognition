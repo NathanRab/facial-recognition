{
 "cells": [
  {
   "cell_type": "code",
   "execution_count": 19,
   "id": "5f765f62",
   "metadata": {},
   "outputs": [],
   "source": [
    "%matplotlib notebook\n",
    "import matplotlib.pyplot as plt\n",
    "from camera import take_picture\n",
    "import numpy as np"
   ]
  },
  {
   "cell_type": "code",
   "execution_count": 20,
   "id": "57d65998",
   "metadata": {},
   "outputs": [],
   "source": [
    "#LOREN'S CODE\n",
    "def cos_dist(di,dj):\n",
    "    \"\"\"Takes in the descriptor vectors di and dj and returns the cosine distance between them\"\"\"\n",
    "    numerator = np.dot(di, dj)\n",
    "    denominator = (sum(i**2 for i in di)**.5) * (sum(j**2 for j in dj)**.5)\n",
    "    dist = 1-(numerator/denominator)\n",
    "    return dist"
   ]
  },
  {
   "cell_type": "code",
   "execution_count": 32,
   "id": "a719759a",
   "metadata": {},
   "outputs": [],
   "source": [
    "cosine_dist_min = [1,None] #cutoff\n",
    "test_data = [100,11]\n",
    "database = [[10,10],[20,10],[30,10]]\n",
    "count = 0\n",
    "for item in database:\n",
    "    cos_distance = cos_dist(test_data,item)\n",
    "    if cos_distance < cosine_dist_min[0]:\n",
    "        cosine_dist_min[0] = cos_distance\n",
    "        cosine_dist_min[1] = count\n",
    "    count += 1"
   ]
  },
  {
   "cell_type": "code",
   "execution_count": 33,
   "id": "42805d32",
   "metadata": {},
   "outputs": [
    {
     "data": {
      "text/plain": [
       "[0.022428173876865243, 2]"
      ]
     },
     "execution_count": 33,
     "metadata": {},
     "output_type": "execute_result"
    }
   ],
   "source": [
    "cosine_dist_min"
   ]
  },
  {
   "cell_type": "code",
   "execution_count": null,
   "id": "1ee64763",
   "metadata": {},
   "outputs": [],
   "source": []
  }
 ],
 "metadata": {
  "kernelspec": {
   "display_name": "Python 3 (ipykernel)",
   "language": "python",
   "name": "python3"
  },
  "language_info": {
   "codemirror_mode": {
    "name": "ipython",
    "version": 3
   },
   "file_extension": ".py",
   "mimetype": "text/x-python",
   "name": "python",
   "nbconvert_exporter": "python",
   "pygments_lexer": "ipython3",
   "version": "3.8.12"
  }
 },
 "nbformat": 4,
 "nbformat_minor": 5
}
